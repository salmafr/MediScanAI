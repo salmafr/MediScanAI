{
  "nbformat": 4,
  "nbformat_minor": 0,
  "metadata": {
    "colab": {
      "provenance": [],
      "authorship_tag": "ABX9TyM1wtjKA8ixi5qhzB1xD5vQ",
      "include_colab_link": true
    },
    "kernelspec": {
      "name": "python3",
      "display_name": "Python 3"
    },
    "language_info": {
      "name": "python"
    }
  },
  "cells": [
    {
      "cell_type": "markdown",
      "metadata": {
        "id": "view-in-github",
        "colab_type": "text"
      },
      "source": [
        "<a href=\"https://colab.research.google.com/github/salmafr/MediScanAI/blob/main/Untitled.ipynb\" target=\"_parent\"><img src=\"https://colab.research.google.com/assets/colab-badge.svg\" alt=\"Open In Colab\"/></a>"
      ]
    },
    {
      "cell_type": "code",
      "execution_count": 1,
      "metadata": {
        "id": "yO69aFpW-zEa"
      },
      "outputs": [],
      "source": [
        "#Decision tree\n",
        "def DecisionTree():\n",
        "\n",
        "    from sklearn import tree\n",
        "    model1 = tree.DecisionTreeClassifier()\n",
        "    model1 = model1.fit(X_train,y_train)\n",
        "\n",
        "    #calculating accuracy\n",
        "    from sklearn.metrics import accuracy_score\n",
        "    y_pred=model1.predict(X_test)\n",
        "    print(accuracy_score(y_test, y_pred))\n",
        "    print(accuracy_score(y_test, y_pred,normalize=False))\n",
        "\n",
        "    psymptoms = [Symptom1.get(),Symptom2.get(),Symptom3.get(),Symptom4.get(),Symptom5.get()]\n",
        "    for k in range(0,len(symptoms)):\n",
        "        for z in psymptoms:\n",
        "            if(z==symptoms[k]):\n",
        "                l[k]=1\n",
        "    inputtest = [l]\n",
        "    predict = model1.predict(inputtest)\n",
        "    predicted=predict[0]\n",
        "    h='no'\n",
        "    for a in range(0,len(prognosis)):\n",
        "        if(predicted == a):\n",
        "            h='yes'\n",
        "            break\n",
        "    if (h=='yes'):\n",
        "        t1.delete(\"1.0\", END)\n",
        "        t1.insert(END, disease[a])\n",
        "    else:\n",
        "        t1.delete(\"1.0\", END)\n",
        "        t1.insert(END, \"Not Found\")"
      ]
    },
    {
      "cell_type": "code",
      "source": [
        "#randomforest\n",
        "def randomforest():\n",
        "\n",
        "    from sklearn.ensemble import RandomForestClassifier\n",
        "    model2 = RandomForestClassifier()\n",
        "    model2 = model2.fit(X_train,np.ravel(y_train))\n",
        "\n",
        "    # calculating accuracy\n",
        "    from sklearn.metrics import accuracy_score\n",
        "    y_pred=model2.predict(X_test)\n",
        "    print(accuracy_score(y_test, y_pred))\n",
        "    print(accuracy_score(y_test, y_pred,normalize=False))\n",
        "\n",
        "    psymptoms = [Symptom1.get(),Symptom2.get(),Symptom3.get(),Symptom4.get(),Symptom5.get()]\n",
        "    for k in range(0,len(symptoms)):\n",
        "        for z in psymptoms:\n",
        "            if(z==symptoms[k]):\n",
        "                l[k]=1\n",
        "    inputtest = [l]\n",
        "    predict = model2.predict(inputtest)\n",
        "    predicted=predict[0]\n",
        "    h='no'\n",
        "    for a in range(0,len(prognosis)):\n",
        "        if(predicted == a):\n",
        "            h='yes'\n",
        "            break\n",
        "    if (h=='yes'):\n",
        "        t2.delete(\"1.0\", END)\n",
        "        t2.insert(END, disease[a])\n",
        "    else:\n",
        "        t2.delete(\"1.0\", END)\n",
        "        t2.insert(END, \"Not Found\")"
      ],
      "metadata": {
        "id": "GYERiFlTg8-L"
      },
      "execution_count": 2,
      "outputs": []
    },
    {
      "cell_type": "code",
      "source": [
        "#Naive Bayes\n",
        "def NaiveBayes():\n",
        "\n",
        "    from sklearn.naive_bayes import GaussianNB\n",
        "    gnb = GaussianNB()\n",
        "    gnb=gnb.fit(X_train,np.ravel(y_train))\n",
        "\n",
        "    # calculating accuracy\n",
        "    from sklearn.metrics import accuracy_score\n",
        "    y_pred=gnb.predict(X_test)\n",
        "    print(accuracy_score(y_test, y_pred))\n",
        "    print(accuracy_score(y_test, y_pred,normalize=False))\n",
        "    psymptoms = [Symptom1.get(),Symptom2.get(),Symptom3.get(),Symptom4.get(),Symptom5.get()]\n",
        "    for k in range(0,len(l1)):\n",
        "        for z in psymptoms:\n",
        "            if(z==symptoms[k]):\n",
        "                l[k]=1\n",
        "    inputtest = [l]\n",
        "    predict = gnb.predict(inputtest)\n",
        "    predicted=predict[0]\n",
        "    h='no'\n",
        "    for a in range(0,len(disease)):\n",
        "        if(predicted == a):\n",
        "            h='yes'\n",
        "            break\n",
        "    if (h=='yes'):\n",
        "        t3.delete(\"1.0\", END)\n",
        "        t3.insert(END, disease[a])\n",
        "    else:\n",
        "        t3.delete(\"1.0\", END)\n",
        "        t3.insert(END, \"Not Found\")"
      ],
      "metadata": {
        "id": "D08DqTTHirEF"
      },
      "execution_count": 3,
      "outputs": []
    }
  ]
}